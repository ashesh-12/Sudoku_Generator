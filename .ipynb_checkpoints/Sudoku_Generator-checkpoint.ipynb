{
 "cells": [
  {
   "cell_type": "markdown",
   "id": "d9432b3e-82b7-433a-8931-fba8688e68d4",
   "metadata": {},
   "source": [
    "# Sudoku Generator: Initial Thoughts\n",
    "\n",
    "After completing the task of Sudoku solver next is Sudoku Generator and initially, the three methods that came to my mind were:\n",
    "\n",
    "1. **Backtracking with gradual removal**  \n",
    "   - Generate a fully solved Sudoku board using backtracking.  \n",
    "   - Gradually remove numbers from cells and replace them with `'0'`.  \n",
    "   - After each removal, check if the board remains uniquely solvable.  \n",
    "   - I think it Ensures uniqueness and validity.  \n",
    "   - But i do think it is Computationally expensive, as checking uniqueness after each removal could be cost ineffective.\n",
    "\n",
    "2. **Gradual construction with uniqueness checks**  \n",
    "   - Start from an empty board and gradually fill in numbers while maintaining uniqueness constraints.  \n",
    "   - It might build the board step by step with guaranteed validity but may be complex.\n",
    "\n",
    "3. **Transformations on a base board**  \n",
    "   - Start from a pre-solved, valid board and generate variations using transformations such as rotations, reflections and such.  \n",
    "   - Fast and easy but every board depends on the base board.\n",
    "  \n",
    "   So I came to conclusion of implementing the first method of Generating Sudoku board through backtacking and then gradually removing one number at a time and then checking its uniqueness side by side."
   ]
  },
  {
   "cell_type": "markdown",
   "id": "7e0f6e43-ec90-457b-9629-4f03a253bfc5",
   "metadata": {},
   "source": [
    "## Sudoku Generator Using Backtracking and Gradual Removal\n",
    "\n",
    "As I think about creating a Sudoku generator, my initial approach is to leverage the existing backtracking Sudoku solver I already implemented. The idea is to start with a **completely filled and valid board**, then gradually remove numbers while maintaining the uniqueness and solvability of the board. \n",
    "\n",
    "### Step-by-step thought process:\n",
    "\n",
    "1. **Generate a fully solved board**\n",
    "   - Use the backtracking solver to fill all cells according to Sudoku rules.\n",
    "   - This ensures that the starting board is completely valid and satisfies all constraints.\n",
    "\n",
    "2. **Gradually remove numbers**\n",
    "   - Select a filled cell and remove its number, replacing it with `'0'`.\n",
    "   - After each removal, check if the board still has a **unique solution** using the solver.\n",
    "   - If the board remains unique and solvable, keep the removal; otherwise, revert it.\n",
    "\n",
    "3. **Iteratively remove numbers to control difficulty**\n",
    "   - Continue this process until the desired number of clues remain on the board.\n",
    "   - Boards with more empty cells are harder, while boards with fewer empty cells are easier.\n",
    "\n",
    "4. **Considerations**\n",
    "   - Each removal requires a uniqueness check, which is computationally expensive.\n",
    "   - Efficient selection of cells for removal can help reduce unnecessary computations.\n",
    "   - This approach guarantees that the generated board is **valid, solvable, and unique**, which is essential for a reliable Sudoku generator."
   ]
  },
  {
   "cell_type": "markdown",
   "id": "ebf95374-e186-4a5b-8812-b0bb2ac75a10",
   "metadata": {},
   "source": [
    "## Sudoku Solver for Empty Board Using Backtracking with Randomized Numbers\n",
    "\n",
    "To generate a complete Sudoku board from scratch, I start with an **empty board** and use a **backtracking algorithm**. To ensure variability and randomness in the generated board, the numbers **1–9 are shuffled** before trying them in each cell.  \n",
    "\n",
    "### Key Points:\n",
    "\n",
    "- **Empty Board Start:** All cells are initially empty (marked with `0`).  \n",
    "- **Randomized Backtracking:** For each empty cell, try numbers in a **random order** to fill the board.  \n",
    "- **Constraint Checks:** Before placing a number, ensure it is valid in the **row, column, and 3×3 box**.  \n",
    "- **Recursive Filling:** Proceed recursively to fill all cells; backtrack if a dead-end is reached.  \n",
    "- **Complete Solution:** The recursion guarantees a fully solved board that satisfies all Sudoku rules.  \n"
   ]
  },
  {
   "cell_type": "code",
   "execution_count": 11,
   "id": "8db6d588-919c-40d9-aa5d-a621ab860a8c",
   "metadata": {},
   "outputs": [],
   "source": [
    "def find_empty(board):\n",
    "    for i in range(9):\n",
    "        for j in range(9):\n",
    "            if board[i][j] == 0:\n",
    "                return (i, j)\n",
    "    return None    "
   ]
  },
  {
   "cell_type": "code",
   "execution_count": 12,
   "id": "70cd0fc2-8007-4ec1-ab68-5b1e1d1af96a",
   "metadata": {},
   "outputs": [],
   "source": [
    "def is_valid(board, num, row, col):\n",
    "    for j in range(9):\n",
    "        if board[row][j] == num and j != col:\n",
    "            return False\n",
    "    for i in range(9):\n",
    "        if board[i][col] == num and i != row:\n",
    "            return False\n",
    "    box_start_row = row - (row % 3)\n",
    "    box_start_col = col - (col % 3)\n",
    "    for i in range(box_start_row, box_start_row + 3):\n",
    "        for j in range(box_start_col, box_start_col + 3):\n",
    "            if board[i][j] == num and (i, j) != (row, col):\n",
    "                return False\n",
    "    return True"
   ]
  },
  {
   "cell_type": "code",
   "execution_count": 13,
   "id": "323b9b38-6570-44f6-8aba-2a6881825594",
   "metadata": {},
   "outputs": [],
   "source": [
    "from random import shuffle\n",
    "\n",
    "def solver(board):\n",
    "    pos = find_empty(board)\n",
    "\n",
    "    if pos is None:\n",
    "        print(\"Board is Solved\")\n",
    "        return True\n",
    "\n",
    "    row, col = pos\n",
    "    nums = [1,2,3,4,5,6,7,8,9]\n",
    "    shuffle(nums)\n",
    "    for num in nums:\n",
    "        if is_valid(board, num, row, col):\n",
    "            board[row][col] = num\n",
    "            if solver(board):    \n",
    "                return True\n",
    "            board[row][col] = 0\n",
    "    return False"
   ]
  },
  {
   "cell_type": "code",
   "execution_count": 14,
   "id": "aafdb448-9f54-4ec4-8442-47e44fd40e99",
   "metadata": {},
   "outputs": [],
   "source": [
    "def sudoku_solved_board(board):\n",
    "    if solver(board):\n",
    "        return board\n",
    "    return False"
   ]
  },
  {
   "cell_type": "code",
   "execution_count": 15,
   "id": "6a61ac80-90f8-449b-9f23-ea0c7db8e217",
   "metadata": {},
   "outputs": [],
   "source": [
    "board = [[0]*9 for _ in range(9)]  "
   ]
  },
  {
   "cell_type": "code",
   "execution_count": 16,
   "id": "84506deb-29a6-4c62-909c-ec2583445056",
   "metadata": {},
   "outputs": [
    {
     "name": "stdout",
     "output_type": "stream",
     "text": [
      "Board is Solved\n"
     ]
    },
    {
     "data": {
      "text/plain": [
       "[[1, 8, 7, 2, 4, 5, 9, 3, 6],\n",
       " [4, 9, 5, 3, 1, 6, 8, 7, 2],\n",
       " [6, 3, 2, 9, 7, 8, 4, 5, 1],\n",
       " [9, 4, 6, 1, 8, 7, 3, 2, 5],\n",
       " [3, 5, 1, 6, 9, 2, 7, 8, 4],\n",
       " [2, 7, 8, 5, 3, 4, 1, 6, 9],\n",
       " [5, 1, 3, 7, 2, 9, 6, 4, 8],\n",
       " [7, 6, 4, 8, 5, 1, 2, 9, 3],\n",
       " [8, 2, 9, 4, 6, 3, 5, 1, 7]]"
      ]
     },
     "execution_count": 16,
     "metadata": {},
     "output_type": "execute_result"
    }
   ],
   "source": [
    "sudoku_solved_board(board)"
   ]
  },
  {
   "cell_type": "code",
   "execution_count": 17,
   "id": "81364405-84f9-45a5-b376-c5c8117adeff",
   "metadata": {},
   "outputs": [],
   "source": [
    "# Store a copy of the solved board\n",
    "full_board = [row[:] for row in board]  # deep copy"
   ]
  },
  {
   "cell_type": "code",
   "execution_count": 18,
   "id": "8e9b3cf2-04f0-40d4-b773-4b423a314d56",
   "metadata": {},
   "outputs": [
    {
     "data": {
      "text/plain": [
       "[[1, 8, 7, 2, 4, 5, 9, 3, 6],\n",
       " [4, 9, 5, 3, 1, 6, 8, 7, 2],\n",
       " [6, 3, 2, 9, 7, 8, 4, 5, 1],\n",
       " [9, 4, 6, 1, 8, 7, 3, 2, 5],\n",
       " [3, 5, 1, 6, 9, 2, 7, 8, 4],\n",
       " [2, 7, 8, 5, 3, 4, 1, 6, 9],\n",
       " [5, 1, 3, 7, 2, 9, 6, 4, 8],\n",
       " [7, 6, 4, 8, 5, 1, 2, 9, 3],\n",
       " [8, 2, 9, 4, 6, 3, 5, 1, 7]]"
      ]
     },
     "execution_count": 18,
     "metadata": {},
     "output_type": "execute_result"
    }
   ],
   "source": [
    "full_board"
   ]
  },
  {
   "cell_type": "markdown",
   "id": "537bdd36-d978-436f-be36-b8c4376b29ea",
   "metadata": {},
   "source": [
    "Sudoku board is generated, So the next step is to **create a playable puzzle**:\n",
    "\n",
    "- **Select Difficulty:** User chooses Easy, Medium, or Hard.  \n",
    "- **Determine Clues:** Number of filled cells based on difficulty:\n",
    "  - Easy → ~36–40 clues  \n",
    "  - Medium → ~28–35 clues  \n",
    "  - Hard → ~22–27 clues  \n",
    "- **Remove Numbers Randomly:** Gradually remove cells while ensuring the puzzle remains **uniquely solvable**.\n"
   ]
  },
  {
   "cell_type": "code",
   "execution_count": 19,
   "id": "daf9619a-17fb-4296-ab4b-8597961228cf",
   "metadata": {},
   "outputs": [],
   "source": [
    "def get_difficulty():\n",
    "    difficulty = input(\"Choose difficulty (easy, medium, hard): \").lower()\n",
    "    if difficulty == \"easy\":\n",
    "        return 36   \n",
    "    elif difficulty == \"medium\":\n",
    "        return 30\n",
    "    elif difficulty == \"hard\":\n",
    "        return 24\n",
    "    else:\n",
    "        print(\"Invalid choice, defaulting to medium\")\n",
    "        return 30"
   ]
  },
  {
   "cell_type": "code",
   "execution_count": 20,
   "id": "1a2e6b94-6ef6-4182-8db2-df694b7264f9",
   "metadata": {},
   "outputs": [],
   "source": [
    "from random import randint\n",
    "\n",
    "def pick_random_filled_cell(board):\n",
    "    while True:\n",
    "        row = randint(0, 8)\n",
    "        col = randint(0, 8)\n",
    "        if board[row][col] != 0:\n",
    "            return (row, col)"
   ]
  },
  {
   "cell_type": "code",
   "execution_count": 21,
   "id": "f4ddceb8-16e4-4021-98c6-343e0fdfc4d2",
   "metadata": {},
   "outputs": [],
   "source": [
    "def remove_cell(board, row, col):\n",
    "    temp = board[row][col]\n",
    "    board[row][col] = 0\n",
    "    return temp"
   ]
  },
  {
   "cell_type": "code",
   "execution_count": 22,
   "id": "4bd97b1e-c7ee-47e8-aaaf-2d631af9f160",
   "metadata": {},
   "outputs": [],
   "source": [
    "def undo_removal(board, row, col, value):\n",
    "    board[row][col] = value"
   ]
  },
  {
   "cell_type": "code",
   "execution_count": 23,
   "id": "f3ca6d44-f88d-483d-95c1-759d07a2499c",
   "metadata": {},
   "outputs": [],
   "source": [
    "def count_solutions(board):\n",
    "    limit = 2\n",
    "    pos = find_empty(board)\n",
    "    if not pos: \n",
    "        return 1\n",
    "    row, col = pos\n",
    "    total = 0\n",
    "\n",
    "    for num in range(1, 10):\n",
    "        if is_valid(board, num, row, col):\n",
    "            board[row][col] = num\n",
    "            total += count_solutions(board)\n",
    "            board[row][col] = 0\n",
    "\n",
    "            if total >= limit:\n",
    "                return total\n",
    "    return total\n",
    "\n",
    "def has_unique_solution(board):\n",
    "    return count_solutions(board) == 1"
   ]
  },
  {
   "cell_type": "code",
   "execution_count": 26,
   "id": "5c1c0c14-2a28-4fc9-adc5-3668d0889260",
   "metadata": {},
   "outputs": [],
   "source": [
    "def sudoku_generator(board):\n",
    "    clues_to_leave = get_difficulty()\n",
    "    removed_count = 0\n",
    "    total_to_remove = 81 - clues_to_leave\n",
    "\n",
    "    while removed_count < total_to_remove:\n",
    "        row, col = pick_random_filled_cell(board)\n",
    "        temp = remove_cell(board, row, col)\n",
    "\n",
    "        if has_unique_solution(board):\n",
    "            removed_count += 1\n",
    "        else:\n",
    "            undo_removal(board, row, col, temp)\n",
    "\n",
    "    return board"
   ]
  },
  {
   "cell_type": "code",
   "execution_count": 32,
   "id": "d682fd37-1f28-46a6-82fa-fc4c1576ca60",
   "metadata": {},
   "outputs": [],
   "source": [
    "board = [[0]*9 for _ in range(9)]"
   ]
  },
  {
   "cell_type": "code",
   "execution_count": 33,
   "id": "63859735-1205-4dd3-8aa6-6480845c29cc",
   "metadata": {},
   "outputs": [
    {
     "name": "stdout",
     "output_type": "stream",
     "text": [
      "Board is Solved\n"
     ]
    },
    {
     "data": {
      "text/plain": [
       "[[5, 6, 1, 8, 2, 9, 7, 3, 4],\n",
       " [9, 8, 7, 5, 3, 4, 6, 1, 2],\n",
       " [3, 2, 4, 1, 6, 7, 8, 9, 5],\n",
       " [6, 5, 2, 3, 1, 8, 9, 4, 7],\n",
       " [7, 3, 9, 6, 4, 2, 5, 8, 1],\n",
       " [1, 4, 8, 7, 9, 5, 2, 6, 3],\n",
       " [2, 1, 5, 9, 8, 3, 4, 7, 6],\n",
       " [4, 9, 3, 2, 7, 6, 1, 5, 8],\n",
       " [8, 7, 6, 4, 5, 1, 3, 2, 9]]"
      ]
     },
     "execution_count": 33,
     "metadata": {},
     "output_type": "execute_result"
    }
   ],
   "source": [
    "sudoku_solved_board(board)"
   ]
  },
  {
   "cell_type": "code",
   "execution_count": 34,
   "id": "ccf4f781-ff4a-40cc-bcf7-0b26a5f4852d",
   "metadata": {},
   "outputs": [
    {
     "name": "stdin",
     "output_type": "stream",
     "text": [
      "Choose difficulty (easy, medium, hard):  hard\n"
     ]
    }
   ],
   "source": [
    "puzzle = sudoku_generator(board)"
   ]
  },
  {
   "cell_type": "code",
   "execution_count": 35,
   "id": "c5f1425c-4647-41aa-beae-4eeb78f83bae",
   "metadata": {},
   "outputs": [
    {
     "name": "stdout",
     "output_type": "stream",
     "text": [
      "\n",
      "Generated Sudoku Puzzle:\n",
      "\n",
      "[0, 0, 0, 8, 0, 0, 7, 3, 0]\n",
      "[0, 0, 7, 5, 0, 0, 0, 0, 2]\n",
      "[3, 2, 0, 0, 0, 0, 8, 0, 0]\n",
      "[0, 5, 0, 0, 0, 0, 9, 0, 0]\n",
      "[0, 0, 9, 6, 0, 0, 0, 8, 0]\n",
      "[1, 0, 0, 0, 0, 5, 0, 0, 3]\n",
      "[0, 0, 5, 0, 0, 3, 0, 0, 0]\n",
      "[0, 9, 0, 0, 7, 0, 0, 5, 0]\n",
      "[0, 0, 0, 0, 0, 1, 3, 0, 0]\n"
     ]
    }
   ],
   "source": [
    "print(\"\\nGenerated Sudoku Puzzle:\\n\")\n",
    "for row in puzzle:\n",
    "    print(row)"
   ]
  },
  {
   "cell_type": "code",
   "execution_count": null,
   "id": "9fcfd322-f7fc-43be-bd14-4a1418423a1d",
   "metadata": {},
   "outputs": [],
   "source": []
  }
 ],
 "metadata": {
  "kernelspec": {
   "display_name": "Python 3 (ipykernel)",
   "language": "python",
   "name": "python3"
  },
  "language_info": {
   "codemirror_mode": {
    "name": "ipython",
    "version": 3
   },
   "file_extension": ".py",
   "mimetype": "text/x-python",
   "name": "python",
   "nbconvert_exporter": "python",
   "pygments_lexer": "ipython3",
   "version": "3.12.4"
  }
 },
 "nbformat": 4,
 "nbformat_minor": 5
}
